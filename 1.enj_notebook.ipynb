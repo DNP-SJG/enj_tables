{
 "cells": [
  {
   "cell_type": "markdown",
   "metadata": {},
   "source": [
    "# 0. setup\n"
   ]
  },
  {
   "cell_type": "code",
   "execution_count": 15,
   "metadata": {},
   "outputs": [
    {
     "name": "stderr",
     "output_type": "stream",
     "text": [
      "Warning message in install.packages(\"tidyr\", repos = \"http://cran.us.r-project.org\"):\n",
      "“installation of package ‘tidyr’ had non-zero exit status”Updating HTML index of packages in '.Library'\n",
      "Making 'packages.html' ... done\n"
     ]
    }
   ],
   "source": [
    "install.packages(\"tidyr\", repos='http://cran.us.r-project.org')\n",
    "\n"
   ]
  },
  {
   "cell_type": "markdown",
   "metadata": {},
   "source": [
    "# 1. tablas de datos\n",
    "\n",
    "La información principal utilizada para la creación de los indicadores de necesidades jurídicas se deriva de los módulos de personas y vivienda.\n",
    "\n",
    "La información de necesidades jurídicas esta dividida en dos módulos, uno de necesidades priorizadas y uno de necesidades concurrentes.\n"
   ]
  },
  {
   "cell_type": "code",
   "execution_count": 9,
   "metadata": {},
   "outputs": [
    {
     "ename": "ERROR",
     "evalue": "Error in loadNamespace(name): there is no package called ‘data.table’\n",
     "output_type": "error",
     "traceback": [
      "Error in loadNamespace(name): there is no package called ‘data.table’\nTraceback:\n",
      "1. data.frame(data.table::fread(sprintf(\"https://docs.google.com/uc?id=%s&export=download\", \n .     file1), header = T))",
      "2. data.table::fread",
      "3. getExportedValue(pkg, name)",
      "4. asNamespace(ns)",
      "5. getNamespace(ns)",
      "6. loadNamespace(name)",
      "7. withRestarts(stop(cond), retry_loadNamespace = function() NULL)",
      "8. withOneRestart(expr, restarts[[1L]])",
      "9. doWithOneRestart(return(expr), restart)"
     ]
    }
   ],
   "source": [
    "file1 <- '1OVTmAXCU2c2Ao1i1IFFwSKDqY-6X0aAs'\n",
    "dt_car <- data.frame(data.table::fread(sprintf('https://docs.google.com/uc?id=%s&export=download', file1), header = T))\n",
    "\n",
    "# 1.2. vivienda\n",
    "file2 <- '197uraHFGwEdQv7CmSfF9ZA83qiR4nKse'\n",
    "dt_viv <- data.frame(data.table::fread(sprintf('https://docs.google.com/uc?id=%s&export=download', file2), header = T))\n",
    "\n",
    "# 1.3. nj priorizadas\n",
    "file3 <- '1u5UzJ7SnUZwUTGwoTL-jmtnOnNZA-ZhQ'\n",
    "nj1 <- data.frame(data.table::fread(sprintf('https://docs.google.com/uc?id=%s&export=download', file3), header = T))\n",
    "\n",
    "# 1.4. nj concurrentes\n",
    "file4 <- '1ozfsDyuCko-K1OvPbqY6Cbc-rs98Nxi-'\n",
    "nj2 <- data.frame(data.table::fread(sprintf('https://docs.google.com/uc?id=%s&export=download', file4), header = T))\n",
    "\n",
    "# 1.5. formato de nombre de variables\n",
    "rm(file1,file2,file3,file4)\n",
    "names(dt_car) <- tolower(names(dt_car))\n",
    "names(dt_viv) <- tolower(names(dt_viv))\n",
    "names(nj1) <- tolower(names(nj1))\n",
    "names(nj2) <- tolower(names(nj2))\n",
    "\n",
    "lapply(list(dt_car,dt_viv,nj1,nj2), function(x){head(x)})"
   ]
  },
  {
   "cell_type": "code",
   "execution_count": 8,
   "metadata": {},
   "outputs": [
    {
     "data": {
      "text/html": [
       "4"
      ],
      "text/latex": [
       "4"
      ],
      "text/markdown": [
       "4"
      ],
      "text/plain": [
       "[1] 4"
      ]
     },
     "metadata": {},
     "output_type": "display_data"
    }
   ],
   "source": [
    "1+3"
   ]
  },
  {
   "cell_type": "code",
   "execution_count": 14,
   "metadata": {},
   "outputs": [
    {
     "data": {
      "text/html": [
       "4"
      ],
      "text/latex": [
       "4"
      ],
      "text/markdown": [
       "4"
      ],
      "text/plain": [
       "[1] 4"
      ]
     },
     "metadata": {},
     "output_type": "display_data"
    }
   ],
   "source": [
    "4"
   ]
  },
  {
   "cell_type": "code",
   "execution_count": null,
   "metadata": {},
   "outputs": [],
   "source": []
  }
 ],
 "metadata": {
  "kernelspec": {
   "display_name": "R",
   "language": "R",
   "name": "ir"
  },
  "language_info": {
   "codemirror_mode": "r",
   "file_extension": ".r",
   "mimetype": "text/x-r-source",
   "name": "R",
   "pygments_lexer": "r",
   "version": "3.6.1"
  }
 },
 "nbformat": 4,
 "nbformat_minor": 4
}
